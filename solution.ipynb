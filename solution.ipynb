{
 "cells": [
  {
   "cell_type": "code",
   "execution_count": null,
   "metadata": {},
   "outputs": [],
   "source": [
    "import perceval as pcvl\n",
    "\n",
    "def get_CCZ() -> pcvl.Processor: # type: ignore\n",
    "    return pcvl.catalog[\"postprocessed ccz\"].build_processor() # type: ignore\n",
    "\n"
   ]
  }
 ],
 "metadata": {
  "language_info": {
   "name": "python"
  }
 },
 "nbformat": 4,
 "nbformat_minor": 2
}
