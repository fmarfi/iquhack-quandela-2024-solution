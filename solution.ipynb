{
 "cells": [
  {
   "cell_type": "code",
   "execution_count": null,
   "metadata": {},
   "outputs": [],
   "source": [
    "import perceval as pcvl\n",
    "import numpy as np"
   ]
  },
  {
   "cell_type": "code",
   "execution_count": null,
   "metadata": {},
   "outputs": [],
   "source": [
    "processor"
   ]
  },
  {
   "attachments": {},
   "cell_type": "markdown",
   "metadata": {},
   "source": [
    "Fidelity and Performance"
   ]
  },
  {
   "cell_type": "code",
   "execution_count": null,
   "metadata": {},
   "outputs": [],
   "source": [
    "states = {pcvl.BasicState('|1,0,1,0,1,0>'): '000',\n",
    "               pcvl.BasicState('|1,0,1,0,0,1>'): '001',\n",
    "               pcvl.BasicState('|1,0,0,1,1,0>'): '010',\n",
    "               pcvl.BasicState('|1,0,0,1,0,1>'): '011',\n",
    "               pcvl.BasicState('|0,1,1,0,1,0>'): '100',\n",
    "               pcvl.BasicState('|0,1,1,0,0,1>'): '101',\n",
    "               pcvl.BasicState('|0,1,0,1,1,0>'): '110',\n",
    "               pcvl.BasicState('|0,1,0,1,0,1>'): '111'}\n",
    "\n",
    "ca = pcvl.algorithm.Analyzer(processor, states)\n",
    "\n",
    "truth_table = {\"000\": \"000\", \"001\": \"001\", \"010\": \"010\", \"011\": \"011\",\n",
    "              \"100\": \"100\", \"101\": \"101\", \"110\": \"111\", \"111\": \"110\"}\n",
    "\n",
    "ca.compute(expected=truth_table)\n",
    "\n",
    "pcvl.pdisplay(ca)\n",
    "print(\n",
    "    f\"performance = {ca.performance}, fidelity = {ca.fidelity.real}\")"
   ]
  }
 ],
 "metadata": {
  "language_info": {
   "name": "python"
  }
 },
 "nbformat": 4,
 "nbformat_minor": 2
}
